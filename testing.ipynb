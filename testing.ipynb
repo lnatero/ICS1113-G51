{
 "cells": [
  {
   "cell_type": "code",
   "execution_count": 1,
   "metadata": {},
   "outputs": [],
   "source": [
    "import pandas as pd"
   ]
  },
  {
   "cell_type": "code",
   "execution_count": 40,
   "metadata": {},
   "outputs": [
    {
     "name": "stdout",
     "output_type": "stream",
     "text": [
      "- ['130.90657']\n",
      "- ['131.06926']\n",
      "- ['104.16304']\n",
      "- ['81.06709']\n",
      "- ['48.23785']\n",
      "- ['30.01308']\n",
      "- ['64.81683']\n",
      "- ['53.01646']\n",
      "- ['85.06009']\n",
      "- ['110.75756']\n",
      "- ['133.06629']\n",
      "- ['98.61981']\n",
      "[130.90657, 131.06926, 104.16304, 81.06709, 48.23785, 30.01308, 64.81683, 53.01646, 85.06009, 110.75756, 133.06629, 98.61981]\n"
     ]
    }
   ],
   "source": [
    "with open(\"datos/eolica/meses/zona0.csv\", encoding=\"utf-8\") as f:\n",
    "    f = list(f)\n",
    "    meses = []\n",
    "    for i in range(len(f)):\n",
    "        f[i] = f[i].strip().split(\",\")\n",
    "        f[i].pop(0)\n",
    "    for lines in f[40:]:\n",
    "        meses.append(float(lines[0]))"
   ]
  }
 ],
 "metadata": {
  "kernelspec": {
   "display_name": "Python 3",
   "language": "python",
   "name": "python3"
  },
  "language_info": {
   "codemirror_mode": {
    "name": "ipython",
    "version": 3
   },
   "file_extension": ".py",
   "mimetype": "text/x-python",
   "name": "python",
   "nbconvert_exporter": "python",
   "pygments_lexer": "ipython3",
   "version": "3.11.5"
  }
 },
 "nbformat": 4,
 "nbformat_minor": 2
}
